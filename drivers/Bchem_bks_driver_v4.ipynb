{
 "cells": [
  {
   "cell_type": "code",
   "execution_count": 22,
   "id": "2881c674",
   "metadata": {},
   "outputs": [],
   "source": [
    "from netCDF4 import Dataset\n",
    "import numpy as np\n",
    "import os\n",
    "import sys\n",
    "sys.path.append(r'/Users/uranus/workarea/bke/seabottom4')\n",
    "from bkenergy.mkbathy.ibathy import Gridinfo, Sbathy\n",
    "from bkenergy.mkbchem.bchem import Sbchem"
   ]
  },
  {
   "cell_type": "code",
   "execution_count": 23,
   "id": "3ff217b4",
   "metadata": {},
   "outputs": [],
   "source": [
    "root = '/Users/uranus/workarea/bke'\n",
    "\n",
    "bdata = root + '/data' + '/emodnet'\n",
    "#bdata = root + '/data'+'/emo2020'\n",
    "out = root + '/data' + '/outs'\n",
    "\n",
    "# emodnet bathymetry\n",
    "\n",
    "bds = [\"A2\", \"A3\", \"A4\", \"B2\", \"B3\", \"B4\", \"C2\", \"C3\", \"C4\", \"D3\", \"D4\"]\n",
    "nb = [bdata + \"/\" + bd + \".mnt\" for bd in bds]\n",
    "\n",
    "\n",
    "#fileList = os.listdir(bdata)\n",
    "#bds = []\n",
    "#for file in fileList:\n",
    "#    bds.append(file)\n",
    "#bsh=bds.sort()    \n",
    "#nb = [bdata + \"/\" + bd for bd in bds]\n",
    "\n",
    "# cmems bottom temperature and salinity\n",
    "tsdata = root + '/data' + '/cmems' + '/bks_nut/'\n",
    "fileLists = os.listdir(tsdata)\n",
    "nts = []\n",
    "for file in fileLists:\n",
    "    nts.append(file)\n",
    "    \n",
    "# read target area from the first file\n",
    "filename = tsdata + nts[0]  # temperature and salinity"
   ]
  },
  {
   "cell_type": "code",
   "execution_count": 24,
   "id": "63fb0985",
   "metadata": {},
   "outputs": [
    {
     "name": "stdout",
     "output_type": "stream",
     "text": [
      "/Users/uranus/workarea/bke/data/emodnet/A2.mnt\n",
      "/Users/uranus/workarea/bke/data/emodnet/A3.mnt\n",
      "/Users/uranus/workarea/bke/data/emodnet/A4.mnt\n",
      "/Users/uranus/workarea/bke/data/emodnet/B2.mnt\n",
      "/Users/uranus/workarea/bke/data/emodnet/B3.mnt\n",
      "/Users/uranus/workarea/bke/data/emodnet/B4.mnt\n",
      "/Users/uranus/workarea/bke/data/emodnet/C2.mnt\n",
      "/Users/uranus/workarea/bke/data/emodnet/C3.mnt\n",
      "/Users/uranus/workarea/bke/data/emodnet/C4.mnt\n",
      "/Users/uranus/workarea/bke/data/emodnet/D3.mnt\n",
      "/Users/uranus/workarea/bke/data/emodnet/D4.mnt\n"
     ]
    }
   ],
   "source": [
    "g = Sbathy(filename, 0, *nb)\n",
    "#Also possible:\n",
    "#f=Sbathy.from_file(\"user_bat.nc\") #instance from user's bathymetry\n",
    "#output bathymetry:\n",
    "#g.to_file(out+'/user_bat_ibi.nc')"
   ]
  },
  {
   "cell_type": "code",
   "execution_count": 25,
   "id": "a7b8295a",
   "metadata": {},
   "outputs": [
    {
     "name": "stdout",
     "output_type": "stream",
     "text": [
      "/Users/uranus/workarea/bke/data/cmems/bks_nut/bs-ulg-nut-an-fc-m_1665595611655.nc\n",
      "no3\n",
      "no3 *\n",
      "mvs= 1.0000000200408773e+20 1.0 0.0\n",
      "range bsd: 9.618095e-13 1e+20\n",
      "range res: 0.0 45.93791961669922\n",
      "6 0 5\n",
      "range bchm: 0.0 45.93791961669922\n",
      "/Users/uranus/workarea/bke/data/cmems/bks_nut/bs-ulg-nut-an-fc-m_1665595650012.nc\n",
      "no3\n",
      "no3 *\n",
      "mvs= 1.0000000200408773e+20 1.0 0.0\n",
      "range bsd: 8.977466e-13 1e+20\n",
      "range res: 0.0 23.724014282226562\n",
      "6 6 11\n",
      "range bchm: 0.0 23.724014282226562\n",
      "/Users/uranus/workarea/bke/data/cmems/bks_nut/bs-ulg-nut-an-fc-m_1665595714454.nc\n",
      "no3\n",
      "no3 *\n",
      "mvs= 1.0000000200408773e+20 1.0 0.0\n",
      "range bsd: 9.751387e-13 1e+20\n",
      "range res: 0.0 15.242413520812988\n",
      "6 12 17\n",
      "range bchm: 0.0 15.242413520812988\n",
      "/Users/uranus/workarea/bke/data/cmems/bks_nut/bs-ulg-nut-an-fc-m_1665595489455.nc\n",
      "no3\n",
      "no3 *\n",
      "mvs= 1.0000000200408773e+20 1.0 0.0\n",
      "range bsd: 9.844872e-13 1e+20\n",
      "range res: 0.0 52.207027435302734\n",
      "6 18 23\n",
      "range bchm: 0.0 52.207027435302734\n",
      "range bchm: nan nan\n"
     ]
    }
   ],
   "source": [
    "h=Sbchem(g.gmed,tsdata,*nts,parameter='nitrate')"
   ]
  },
  {
   "cell_type": "code",
   "execution_count": 26,
   "id": "d2f5f59c",
   "metadata": {},
   "outputs": [],
   "source": [
    "h.bts_to_file(out+'/bchem_bks_2020_no3_out_v4.nc')"
   ]
  },
  {
   "cell_type": "code",
   "execution_count": 6,
   "id": "e7e070de",
   "metadata": {},
   "outputs": [
    {
     "name": "stdout",
     "output_type": "stream",
     "text": [
      "Help on class Stands in module bkenergy.mktands.itands:\n",
      "\n",
      "class Stands(builtins.object)\n",
      " |  Stands(gmed, cdata, *args, density=1036.0, percent=50)\n",
      " |  \n",
      " |  The Class Stands is written to provide an evaluation of temperature and salinity at the seabottom by means of self-contained objects.\n",
      " |  it needs a bathymetry interpolated on the grid and montly/daily data\n",
      " |  from oceanographic models i.e. for IBI files like for example\n",
      " |  dataset-ibi-analysis-forecast-phys-005-001-monthly_1544612310558.nc\n",
      " |  all inputs must be netcdf files. A class (Sbathy) is provided in order to interpolate Emodnet bathymetry on the specific model grid selected.\n",
      " |  usage:\n",
      " |  1st step\n",
      " |  ebaluate the bathymetry by using\n",
      " |  gts=Sbathy(filename_ts,0,*nb\n",
      " |  or gts=Sbathy.fromfile('namefile.nc')\n",
      " |  (see specific documentation)\n",
      " |  2nd step\n",
      " |  evaluate nth percentile of bottom salinity and temperature\n",
      " |  hts=Stands(gts.gmed,tsdata,*nts) ==\n",
      " |  (gts.gmed must be generated as an instance gts of class Sbathy),\n",
      " |  or\n",
      " |  hts=Stands(g.gmed,cdata,*nc,density=1035.,percent=50)\n",
      " |  where percent=xx indicates the xx nth percentile to be evalated, and density=1035. let the user to insert a value of mean density of the area to be used in the evaluation of the bottom enegy.\n",
      " |  3nd step\n",
      " |  output nth percentile of seabottom energy\n",
      " |  hts.bts_to_file('tands_ibi_out.nc')\n",
      " |  Technical reference can be found in the Annex 1 \"Compiling oceanographic layers\" to the EUSeaMap 2019 - Technical Report\n",
      " |  \n",
      " |  Methods defined here:\n",
      " |  \n",
      " |  __init__(self, gmed, cdata, *args, density=1036.0, percent=50)\n",
      " |      Initialize self.  See help(type(self)) for accurate signature.\n",
      " |  \n",
      " |  btands(self, filen, density)\n",
      " |      The method btands is used to evaluate the salinity on the model level closest to the\n",
      " |      sea bottom at each point of the grid. No BL model is applied.\n",
      " |      It is called by the constructor of the class Btands.\n",
      " |  \n",
      " |  bts_to_file(self, fl)\n",
      " |      The method bts_to_file is used to output the ncdf4 file\n",
      " |      of statistics of bottom salinity\n",
      " |  \n",
      " |  process(self, nlats, nlons, su_ke, perc)\n",
      " |      The method process is used to evaluate the required\n",
      " |      statistics (nth percentile) at each point of the grid.\n",
      " |      It is called by the constructor of the class Stands\n",
      " |  \n",
      " |  ----------------------------------------------------------------------\n",
      " |  Readonly properties defined here:\n",
      " |  \n",
      " |  bsal\n",
      " |  \n",
      " |  btemp\n",
      " |  \n",
      " |  gmed\n",
      " |  \n",
      " |  percent\n",
      " |  \n",
      " |  ----------------------------------------------------------------------\n",
      " |  Data descriptors defined here:\n",
      " |  \n",
      " |  __dict__\n",
      " |      dictionary for instance variables (if defined)\n",
      " |  \n",
      " |  __weakref__\n",
      " |      list of weak references to the object (if defined)\n",
      "\n"
     ]
    }
   ],
   "source": [
    "help(Sbchem)"
   ]
  },
  {
   "cell_type": "code",
   "execution_count": null,
   "id": "c0640053",
   "metadata": {},
   "outputs": [],
   "source": []
  }
 ],
 "metadata": {
  "kernelspec": {
   "display_name": "Python 3 (ipykernel)",
   "language": "python",
   "name": "python3"
  },
  "language_info": {
   "codemirror_mode": {
    "name": "ipython",
    "version": 3
   },
   "file_extension": ".py",
   "mimetype": "text/x-python",
   "name": "python",
   "nbconvert_exporter": "python",
   "pygments_lexer": "ipython3",
   "version": "3.9.12"
  }
 },
 "nbformat": 4,
 "nbformat_minor": 5
}
