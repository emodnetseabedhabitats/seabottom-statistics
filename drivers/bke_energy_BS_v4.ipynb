{
 "cells": [
  {
   "cell_type": "code",
   "execution_count": 1,
   "id": "eb6633a0",
   "metadata": {},
   "outputs": [],
   "source": [
    "from netCDF4 import Dataset\n",
    "import numpy as np\n",
    "import os\n",
    "import sys\n",
    "sys.path.append(r'/Users/dionysos/workarea/bke/sources/seabottom3/')\n",
    "from bkenergy.mkbathy.ibathy import Gridinfo, Sbathy\n",
    "from bkenergy.currents.icke import Sbenergy"
   ]
  },
  {
   "cell_type": "code",
   "execution_count": 2,
   "id": "75992add",
   "metadata": {},
   "outputs": [],
   "source": [
    "root = '/Users/dionysos/workarea/bke'\n",
    "bdata = root + '/data' + '/emodnet'\n",
    "out = root + '/data' + '/outs/'\n",
    "\n",
    "# emodnet bathymetry\n",
    "bds = [\"A2\", \"A3\", \"A4\", \"B2\", \"B3\", \"B4\", \"C2\", \"C3\", \"C4\", \"D3\", \"D4\"]\n",
    "nb = [bdata + \"/\" + bd + \".mnt\" for bd in bds]\n",
    "\n",
    "# cmems currents ibi\n",
    "cdata = root + '/data' + '/cmems' + '/bks_curr/'\n",
    "fileList = os.listdir(cdata)\n",
    "nc = []\n",
    "for file in fileList:\n",
    "    nc.append(file)\n",
    "filename = cdata + nc[0]  # currents"
   ]
  },
  {
   "cell_type": "code",
   "execution_count": 3,
   "id": "781750b2",
   "metadata": {},
   "outputs": [
    {
     "name": "stdout",
     "output_type": "stream",
     "text": [
      "/Users/dionysos/workarea/bke/data/emodnet/A2.mnt\n",
      "/Users/dionysos/workarea/bke/data/emodnet/A3.mnt\n",
      "/Users/dionysos/workarea/bke/data/emodnet/A4.mnt\n",
      "/Users/dionysos/workarea/bke/data/emodnet/B2.mnt\n",
      "/Users/dionysos/workarea/bke/data/emodnet/B3.mnt\n",
      "/Users/dionysos/workarea/bke/data/emodnet/B4.mnt\n",
      "/Users/dionysos/workarea/bke/data/emodnet/C2.mnt\n",
      "/Users/dionysos/workarea/bke/data/emodnet/C3.mnt\n",
      "/Users/dionysos/workarea/bke/data/emodnet/C4.mnt\n",
      "/Users/dionysos/workarea/bke/data/emodnet/D3.mnt\n",
      "/Users/dionysos/workarea/bke/data/emodnet/D4.mnt\n"
     ]
    }
   ],
   "source": [
    "g = Sbathy(filename, 0, *nb)"
   ]
  },
  {
   "cell_type": "code",
   "execution_count": 4,
   "id": "41d8bc71",
   "metadata": {},
   "outputs": [
    {
     "name": "stdout",
     "output_type": "stream",
     "text": [
      "/Users/dionysos/workarea/bke/data/cmems/bks_curr/sv03-bs-cmcc-cur-an-fc-d_1527009410388.nc\n",
      "46 0 45\n",
      "/Users/dionysos/workarea/bke/data/cmems/bks_curr/sv03-bs-cmcc-cur-an-fc-d_1527009952573.nc\n",
      "46 46 91\n",
      "/Users/dionysos/workarea/bke/data/cmems/bks_curr/sv03-bs-cmcc-cur-an-fc-d_1527011961318.nc\n",
      "47 92 138\n",
      "/Users/dionysos/workarea/bke/data/cmems/bks_curr/sv03-bs-cmcc-cur-an-fc-d_1527010465422.nc\n",
      "46 139 184\n",
      "/Users/dionysos/workarea/bke/data/cmems/bks_curr/sv03-bs-cmcc-cur-an-fc-d_1527008387932.nc\n",
      "46 185 230\n",
      "/Users/dionysos/workarea/bke/data/cmems/bks_curr/sv03-bs-cmcc-cur-an-fc-d_1527008920040.nc\n",
      "46 231 276\n"
     ]
    },
    {
     "name": "stderr",
     "output_type": "stream",
     "text": [
      "/Users/dionysos/workarea/bke/sources/seabottom3/bkenergy/currents/icke.py:89: RuntimeWarning: Mean of empty slice\n",
      "  avgbke=np.nanmean(msu_ke,axis=2)\n",
      "/Users/dionysos/opt/anaconda3/envs/benergy/lib/python3.9/site-packages/numpy/lib/nanfunctions.py:1878: RuntimeWarning: Degrees of freedom <= 0 for slice.\n",
      "  var = nanvar(a, axis=axis, dtype=dtype, out=out, ddof=ddof,\n",
      "/Users/dionysos/opt/anaconda3/envs/benergy/lib/python3.9/site-packages/numpy/lib/nanfunctions.py:1583: RuntimeWarning: All-NaN slice encountered\n",
      "  result = np.apply_along_axis(_nanquantile_1d, axis, a, q,\n"
     ]
    }
   ],
   "source": [
    "h=Sbenergy(g.gmed,cdata,*nc)"
   ]
  },
  {
   "cell_type": "code",
   "execution_count": 5,
   "id": "c6abbf23",
   "metadata": {},
   "outputs": [],
   "source": [
    "#help(h)\n",
    "h.bke_to_file(out+'cke_bks_v4_out.nc')"
   ]
  },
  {
   "cell_type": "code",
   "execution_count": null,
   "id": "9f00c641",
   "metadata": {},
   "outputs": [],
   "source": []
  },
  {
   "cell_type": "code",
   "execution_count": 37,
   "id": "cf616d41",
   "metadata": {},
   "outputs": [
    {
     "name": "stdout",
     "output_type": "stream",
     "text": [
      "Help on class Sbenergy in module bkenergy.currents.icke:\n",
      "\n",
      "class Sbenergy(builtins.object)\n",
      " |  Sbenergy(gmed, cdata, *args, density=1036.0, percent=90)\n",
      " |  \n",
      " |  The Class is written to provide an evaluation of current kinetic energy at the seabottom by means of self-contained objects.\n",
      " |  it needs a bathymetry interpolated on the grid and montly data\n",
      " |  from oceanographic models i.e. for IBI files like\n",
      " |  dataset-ibi-analysis-forecast-phys-005-001-monthly_xxx.nc\n",
      " |  all inputs must be netcdf files. A class (Sbathy) is provided in order to interpolate Emodnet bathymetry on the specific model grid selected.\n",
      " |  usage:\n",
      " |  1st step\n",
      " |  ebaluate the bathymetry by using\n",
      " |  g=Sbathy(filename,0,*nb)\n",
      " |  or g=Sbathy.fromfile('namefile.nc')\n",
      " |  (see specific documentation)\n",
      " |  2nd step\n",
      " |  evaluate nth percentile of bottom energy\n",
      " |  h=Sbenergy(g.gmed,cdata,*nc,) #instance from emodnet 2016 bathymetry\n",
      " |  (g.gmed must be generated as an instance of class Sbathy),\n",
      " |  or\n",
      " |  h=Sbenergy(g.gmed,cdata,*nc,density=1035.,percent=90)\n",
      " |  where percent=xx indicates the xx nth percentile to be evalated, and density=1035. let the user to insert a value of mean density of the area to be used in the evaluation of the bottom enegy.\n",
      " |  3nd step\n",
      " |  output nth percentile of seabottom energy\n",
      " |  h.bke_to_file('bke_ibi_out.nc')\n",
      " |  Technical reference can be found in the Annex 1 \"Compiling oceanographic layers\" to the EUSeaMap 2019 - Technical Report\n",
      " |  \n",
      " |  Methods defined here:\n",
      " |  \n",
      " |  __init__(self, gmed, cdata, *args, density=1036.0, percent=90)\n",
      " |      Initialize self.  See help(type(self)) for accurate signature.\n",
      " |  \n",
      " |  __str__(self)\n",
      " |      Return str(self).\n",
      " |  \n",
      " |  bke_to_file(self, fl)\n",
      " |      The method bke_to_file is used to output the\n",
      " |      ncdf4 file of statistics of bottom kinetic energy\n",
      " |  \n",
      " |  bken(self, filen, density)\n",
      " |      The method bken is used to evaluate the kinetic\n",
      " |      energy close (zfix=1m) to the sea bottom at each\n",
      " |      point of the grid. It is called by the constructor\n",
      " |      of the class Benergy. The simple boundary layer\n",
      " |      model is described in the Annex 1 \"Compiling\n",
      " |      oceanographic layers\" to the EUSeaMap 2019 -\n",
      " |      Technical Report\"\n",
      " |  \n",
      " |  bleach(self, ckp, sfloor, g, dh, zob)\n",
      " |      The method bleach  is used to apply a simple BL\n",
      " |      model. References in Annex 1 Compiling\n",
      " |      oceanographic layers to the EUSeaMap 2019.\n",
      " |      Technical Report and Maraldi et al., 2013,\n",
      " |  \n",
      " |  process(self, nlats, nlons, su_ke, perc)\n",
      " |      The method process is used to evaluate the\n",
      " |      required statistics (nth percentile) at each point\n",
      " |      of the grid\n",
      " |  \n",
      " |  ----------------------------------------------------------------------\n",
      " |  Readonly properties defined here:\n",
      " |  \n",
      " |  bke\n",
      " |  \n",
      " |  density\n",
      " |  \n",
      " |  gmed\n",
      " |  \n",
      " |  percent\n",
      " |  \n",
      " |  ----------------------------------------------------------------------\n",
      " |  Data descriptors defined here:\n",
      " |  \n",
      " |  __dict__\n",
      " |      dictionary for instance variables (if defined)\n",
      " |  \n",
      " |  __weakref__\n",
      " |      list of weak references to the object (if defined)\n",
      "\n"
     ]
    }
   ],
   "source": [
    "help(Sbenergy)"
   ]
  },
  {
   "cell_type": "code",
   "execution_count": null,
   "id": "dbd59b99",
   "metadata": {},
   "outputs": [],
   "source": []
  }
 ],
 "metadata": {
  "kernelspec": {
   "display_name": "Python 3 (ipykernel)",
   "language": "python",
   "name": "python3"
  },
  "language_info": {
   "codemirror_mode": {
    "name": "ipython",
    "version": 3
   },
   "file_extension": ".py",
   "mimetype": "text/x-python",
   "name": "python",
   "nbconvert_exporter": "python",
   "pygments_lexer": "ipython3",
   "version": "3.9.13"
  }
 },
 "nbformat": 4,
 "nbformat_minor": 5
}
