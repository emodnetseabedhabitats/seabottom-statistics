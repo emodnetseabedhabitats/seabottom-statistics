{
 "cells": [
  {
   "cell_type": "code",
   "execution_count": 1,
   "id": "f653ecde",
   "metadata": {},
   "outputs": [],
   "source": [
    "from netCDF4 import Dataset\n",
    "import numpy as np\n",
    "import os\n",
    "import sys\n",
    "sys.path.append(r'/Users/dionysos/workarea/bke/sources/seabottom3/')\n",
    "from bkenergy.mkbathy.ibathy import Gridinfo, Sbathy\n",
    "from bkenergy.waves.iwke import Wbenergy"
   ]
  },
  {
   "cell_type": "code",
   "execution_count": 2,
   "id": "7e8640fc",
   "metadata": {},
   "outputs": [],
   "source": [
    "root = '/Users/dionysos/workarea/bke'\n",
    "\n",
    "bdata = root + '/data' + '/emodnet'\n",
    "out = root + '/data' + '/outs'\n",
    "\n",
    "# emodnet bathymetry\n",
    "bds = [\"A2\", \"A3\", \"A4\", \"B2\", \"B3\", \"B4\", \"C2\", \"C3\", \"C4\", \"D3\", \"D4\"]\n",
    "nb = [bdata + \"/\" + bd + \".mnt\" for bd in bds]\n",
    "\n",
    "# cmems bottom temperature and salinity\n",
    "wdata=root+'/data'+'/cmems'+'/med_waves/'\n",
    "fileLists = os.listdir(wdata)\n",
    "nw = []\n",
    "for file in fileLists:\n",
    "    nw.append(file)\n",
    "# read target area from the first file\n",
    "filename = wdata + nw[0]  # temperature and salinity"
   ]
  },
  {
   "cell_type": "code",
   "execution_count": 3,
   "id": "dc09e989",
   "metadata": {},
   "outputs": [
    {
     "name": "stdout",
     "output_type": "stream",
     "text": [
      "/Users/dionysos/workarea/bke/data/emodnet/A2.mnt\n",
      "/Users/dionysos/workarea/bke/data/emodnet/A3.mnt\n",
      "/Users/dionysos/workarea/bke/data/emodnet/A4.mnt\n",
      "/Users/dionysos/workarea/bke/data/emodnet/B2.mnt\n",
      "/Users/dionysos/workarea/bke/data/emodnet/B3.mnt\n",
      "/Users/dionysos/workarea/bke/data/emodnet/B4.mnt\n",
      "/Users/dionysos/workarea/bke/data/emodnet/C2.mnt\n",
      "/Users/dionysos/workarea/bke/data/emodnet/C3.mnt\n",
      "/Users/dionysos/workarea/bke/data/emodnet/C4.mnt\n",
      "/Users/dionysos/workarea/bke/data/emodnet/D3.mnt\n",
      "/Users/dionysos/workarea/bke/data/emodnet/D4.mnt\n"
     ]
    }
   ],
   "source": [
    "g = Sbathy(filename, 0, *nb)\n",
    "#Also possible\n",
    "#f=Sbathy.from_file(\"user_bat.nc\") #instance from user's bathymetry\n",
    "#output bathymetry\n",
    "#g.to_file(out+'/user_bat_ibi.nc')"
   ]
  },
  {
   "cell_type": "code",
   "execution_count": 4,
   "id": "1742682a",
   "metadata": {},
   "outputs": [
    {
     "name": "stdout",
     "output_type": "stream",
     "text": [
      "/Users/dionysos/workarea/bke/data/cmems/med_waves/med-hcmr-wav-an-fc-h_1665399580917.nc\n",
      "528 0 527\n",
      "/Users/dionysos/workarea/bke/data/cmems/med_waves/med-hcmr-wav-an-fc-h_1665400370291.nc\n",
      "504 528 1031\n",
      "/Users/dionysos/workarea/bke/data/cmems/med_waves/med-hcmr-wav-an-fc-h_1665400247968.nc\n",
      "456 1032 1487\n",
      "/Users/dionysos/workarea/bke/data/cmems/med_waves/med-hcmr-wav-an-fc-h_1665400130773.nc\n",
      "240 1488 1727\n",
      "/Users/dionysos/workarea/bke/data/cmems/med_waves/med-hcmr-wav-an-fc-h_1665399699684.nc\n",
      "432 1728 2159\n"
     ]
    },
    {
     "name": "stderr",
     "output_type": "stream",
     "text": [
      "/Users/dionysos/workarea/bke/sources/seabottom3/bkenergy/waves/iwke.py:92: RuntimeWarning: Mean of empty slice\n",
      "  avgbke=np.nanmean(msu_ke,axis=2)\n",
      "/Users/dionysos/opt/anaconda3/envs/benergy/lib/python3.9/site-packages/numpy/lib/nanfunctions.py:1878: RuntimeWarning: Degrees of freedom <= 0 for slice.\n",
      "  var = nanvar(a, axis=axis, dtype=dtype, out=out, ddof=ddof,\n",
      "/Users/dionysos/opt/anaconda3/envs/benergy/lib/python3.9/site-packages/numpy/lib/nanfunctions.py:1583: RuntimeWarning: All-NaN slice encountered\n",
      "  result = np.apply_along_axis(_nanquantile_1d, axis, a, q,\n"
     ]
    }
   ],
   "source": [
    "h=Wbenergy(g.gmed,wdata,*nw)\n",
    "# general instance h=Stands(g.gmed,cdata,*nc,density=1035,percent=90)\n",
    "# default values are density=1036.,percent=50.\n",
    "#output bathymetry and bke\n",
    "#h.bts_to_file(out+'/bts_ibi_out.nc')"
   ]
  },
  {
   "cell_type": "code",
   "execution_count": 5,
   "id": "18b04b0e",
   "metadata": {},
   "outputs": [],
   "source": [
    "h.wbke_to_file(out+'/wbke_med_out.nc')"
   ]
  },
  {
   "cell_type": "code",
   "execution_count": null,
   "id": "adabd6a3",
   "metadata": {},
   "outputs": [],
   "source": []
  }
 ],
 "metadata": {
  "kernelspec": {
   "display_name": "Python 3 (ipykernel)",
   "language": "python",
   "name": "python3"
  },
  "language_info": {
   "codemirror_mode": {
    "name": "ipython",
    "version": 3
   },
   "file_extension": ".py",
   "mimetype": "text/x-python",
   "name": "python",
   "nbconvert_exporter": "python",
   "pygments_lexer": "ipython3",
   "version": "3.9.13"
  }
 },
 "nbformat": 4,
 "nbformat_minor": 5
}
